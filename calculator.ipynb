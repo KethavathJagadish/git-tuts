{
  "nbformat": 4,
  "nbformat_minor": 0,
  "metadata": {
    "colab": {
      "provenance": [],
      "authorship_tag": "ABX9TyMRyrzRj+9ePueazYpcI0ZB",
      "include_colab_link": true
    },
    "kernelspec": {
      "name": "python3",
      "display_name": "Python 3"
    },
    "language_info": {
      "name": "python"
    }
  },
  "cells": [
    {
      "cell_type": "markdown",
      "metadata": {
        "id": "view-in-github",
        "colab_type": "text"
      },
      "source": [
        "<a href=\"https://colab.research.google.com/github/KethavathJagadish/git-tuts/blob/main/calculator.ipynb\" target=\"_parent\"><img src=\"https://colab.research.google.com/assets/colab-badge.svg\" alt=\"Open In Colab\"/></a>"
      ]
    },
    {
      "cell_type": "markdown",
      "source": [
        "calculator code:"
      ],
      "metadata": {
        "id": "nftkr-JHVW0z"
      }
    },
    {
      "cell_type": "code",
      "source": [
        "def calculator():\n",
        "    print(\"Welcome to the Simple Calculator!\")\n",
        "\n",
        "    # Get the first number\n",
        "    num1 = float(input(\"Enter the first number: \"))\n",
        "\n",
        "    # Get the second number\n",
        "    num2 = float(input(\"Enter the second number: \"))\n",
        "\n",
        "    # Show the operation choices\n",
        "    print(\"\\nChoose the operation:\")\n",
        "    print(\"1. Addition (+)\")\n",
        "    print(\"2. Subtraction (-)\")\n",
        "    print(\"3. Multiplication (*)\")\n",
        "    print(\"4. Division (/)\")\n",
        "\n",
        "    # Get the user's choice\n",
        "    choice = input(\"Enter your choice (1/2/3/4): \")\n",
        "\n",
        "    # Perform the calculation\n",
        "    if choice == '1':\n",
        "        result = num1 + num2\n",
        "        print(f\"\\nResult: {num1} + {num2} = {result}\")\n",
        "    elif choice == '2':\n",
        "        result = num1 - num2\n",
        "        print(f\"\\nResult: {num1} - {num2} = {result}\")\n",
        "    elif choice == '3':\n",
        "        result = num1 * num2\n",
        "        print(f\"\\nResult: {num1} * {num2} = {result}\")\n",
        "    elif choice == '4':\n",
        "        if num2 != 0:\n",
        "            result = num1 / num2\n",
        "            print(f\"\\nResult: {num1} / {num2} = {result}\")\n",
        "        else:\n",
        "            print(\"\\nError: Division by zero is not allowed.\")\n",
        "    else:\n",
        "        print(\"\\nInvalid choice. Please select 1, 2, 3, or 4.\")\n",
        "\n",
        "# Run the calculator\n",
        "calculator()\n"
      ],
      "metadata": {
        "colab": {
          "base_uri": "https://localhost:8080/"
        },
        "id": "up5yu4-yVbxo",
        "outputId": "9ef4de25-070c-4f69-8062-be4ac4ef5f9e"
      },
      "execution_count": 1,
      "outputs": [
        {
          "output_type": "stream",
          "name": "stdout",
          "text": [
            "Welcome to the Simple Calculator!\n",
            "Enter the first number: 5\n",
            "Enter the second number: 9\n",
            "\n",
            "Choose the operation:\n",
            "1. Addition (+)\n",
            "2. Subtraction (-)\n",
            "3. Multiplication (*)\n",
            "4. Division (/)\n",
            "Enter your choice (1/2/3/4): -\n",
            "\n",
            "Invalid choice. Please select 1, 2, 3, or 4.\n"
          ]
        }
      ]
    }
  ]
}