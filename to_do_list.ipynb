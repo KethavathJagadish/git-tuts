{
  "nbformat": 4,
  "nbformat_minor": 0,
  "metadata": {
    "colab": {
      "provenance": [],
      "authorship_tag": "ABX9TyOwl7geYPL5OxPRAVKUz36r",
      "include_colab_link": true
    },
    "kernelspec": {
      "name": "python3",
      "display_name": "Python 3"
    },
    "language_info": {
      "name": "python"
    }
  },
  "cells": [
    {
      "cell_type": "markdown",
      "metadata": {
        "id": "view-in-github",
        "colab_type": "text"
      },
      "source": [
        "<a href=\"https://colab.research.google.com/github/KethavathJagadish/git-tuts/blob/main/to_do_list.ipynb\" target=\"_parent\"><img src=\"https://colab.research.google.com/assets/colab-badge.svg\" alt=\"Open In Colab\"/></a>"
      ]
    },
    {
      "cell_type": "markdown",
      "source": [
        "1️⃣ show_menu()"
      ],
      "metadata": {
        "id": "pLf_0r94Tlc_"
      }
    },
    {
      "cell_type": "code",
      "execution_count": 1,
      "metadata": {
        "id": "P7Yoh9PUTfuK"
      },
      "outputs": [],
      "source": [
        "def show_menu():\n",
        "    print(\"\\nTo-Do List\")\n",
        "    print(\"1. View tasks\")\n",
        "    print(\"2. Add task\")\n",
        "    print(\"3. Remove task\")\n",
        "    print(\"4. Exit\")\n"
      ]
    },
    {
      "cell_type": "markdown",
      "source": [
        "2️⃣ view_tasks(tasks)"
      ],
      "metadata": {
        "id": "8P5H2tvwTs-3"
      }
    },
    {
      "cell_type": "code",
      "source": [
        "def view_tasks(tasks):\n",
        "    if not tasks:\n",
        "        print(\"No tasks yet!\")\n",
        "    else:\n",
        "        print(\"\\nYour tasks:\")\n",
        "        for idx, task in enumerate(tasks, 1):\n",
        "            print(f\"{idx}. {task}\")\n"
      ],
      "metadata": {
        "id": "QqCMyQ3fTwD6"
      },
      "execution_count": 2,
      "outputs": []
    },
    {
      "cell_type": "markdown",
      "source": [
        "3️⃣ add_task(tasks)"
      ],
      "metadata": {
        "id": "Pu7sVp8cT0i2"
      }
    },
    {
      "cell_type": "code",
      "source": [
        "def add_task(tasks):\n",
        "    task = input(\"Enter the task: \")\n",
        "    tasks.append(task)\n",
        "    print(f'\"{task}\" added.')\n"
      ],
      "metadata": {
        "id": "KUrERwyKT1i3"
      },
      "execution_count": 3,
      "outputs": []
    },
    {
      "cell_type": "markdown",
      "source": [
        "4️⃣ remove_task(tasks"
      ],
      "metadata": {
        "id": "Sjw6ZDi6T4YR"
      }
    },
    {
      "cell_type": "code",
      "source": [
        "def remove_task(tasks):\n",
        "    view_tasks(tasks)\n",
        "    if tasks:\n",
        "        try:\n",
        "            task_num = int(input(\"Enter the number of the task to remove: \"))\n",
        "            removed = tasks.pop(task_num - 1)\n",
        "            print(f'\"{removed}\" removed.')\n",
        "        except (ValueError, IndexError):\n",
        "            print(\"Invalid task number.\")\n"
      ],
      "metadata": {
        "id": "0fkQDxa2T7VP"
      },
      "execution_count": 4,
      "outputs": []
    },
    {
      "cell_type": "markdown",
      "source": [
        "5️⃣ main()\n"
      ],
      "metadata": {
        "id": "lONy5Kj6T-fS"
      }
    },
    {
      "cell_type": "code",
      "source": [
        "def main():\n",
        "    tasks = []\n",
        "    while True:\n",
        "        show_menu()\n",
        "        choice = input(\"Choose an option (1-4): \")\n",
        "        if choice == '1':\n",
        "            view_tasks(tasks)\n",
        "        elif choice == '2':\n",
        "            add_task(tasks)\n",
        "        elif choice == '3':\n",
        "            remove_task(tasks)\n",
        "        elif choice == '4':\n",
        "            print(\"Goodbye!\")\n",
        "            break\n",
        "        else:\n",
        "            print(\"Invalid choice, try again.\")\n"
      ],
      "metadata": {
        "id": "kafRjrS6UDI4"
      },
      "execution_count": 5,
      "outputs": []
    }
  ]
}